{
 "cells": [
  {
   "cell_type": "markdown",
   "metadata": {},
   "source": [
    "# <span style=\"color:#ffdf22;\">~Lista de Exercícios~</span>"
   ]
  },
  {
   "cell_type": "markdown",
   "metadata": {},
   "source": [
    "## <span style=\"color:#ffdf22;\">Exercício 1: Aprovação ou Reprovação (Condicional) </span>\n",
    "Você estuda na USP e quer saber se foi aprovado ou não com as notas que você tem, mas seu professor utiliza o seguinte critério para cálcular a média:\n",
    "\n",
    "1. Os alunos precisam fazer apenas uma entre P1 e P2, caso façam as duas somente a de maior nota será considerada.\n",
    "2. P3 é obrigatória.\n",
    "3. Calculo da média é feito por média ponderada.\n",
    "\n",
    "\n",
    "| Prova    | P1 |P2    | P3 |\n",
    "| -------- | ------- |-------- | ------- |\n",
    "| Peso | 4 | 4 | 6 |\n",
    "\n",
    "\n",
    "Se nota maior ou igual a 5, printar **\"Aprovado\"**.\n",
    "\n",
    "Se nota maior ou igual a 3 e menor que 5, printar **\"Reaval\"**.\n",
    "\n",
    "Se nota menor que 3, printar **\"Reprovado\"**."
   ]
  },
  {
   "cell_type": "code",
   "execution_count": 13,
   "metadata": {},
   "outputs": [
    {
     "name": "stdout",
     "output_type": "stream",
     "text": [
      "A média calculada é: 2.20\n",
      "Reprovado\n"
     ]
    }
   ],
   "source": [
    "notaP1 = float(input('Digite a nota P1'))\n",
    "notaP2 = 0\n",
    "\n",
    "respostaP2 = input('O aluno fez a P2? (S - Sim ou N - Não)')\n",
    "alunoFezP2 = respostaP2 == 'S'\n",
    "\n",
    "if (alunoFezP2):\n",
    "    notaP2 = float(input('Digite a nota P2'))\n",
    "\n",
    "notaP3 = float(input('Digite a nota P3'))\n",
    "\n",
    "maiorNotaEntreP1P2 = max(notaP1, notaP2)\n",
    "media = (((maiorNotaEntreP1P2 * 4) + (notaP3 * 6)) / 10)\n",
    "\n",
    "print(f'A média calculada é: {media:.2f}')\n",
    "\n",
    "if (media >= 5):\n",
    "    print('Aprovado')\n",
    "elif (media >= 3 and media < 5):\n",
    "    print('Reaval')\n",
    "else:\n",
    "    print('Reprovado')"
   ]
  },
  {
   "cell_type": "markdown",
   "metadata": {},
   "source": [
    "## <span style=\"color:#ffdf22;\">Exercício 2: Mitose (Loop) </span>\n",
    "\n",
    "Você é um biologo e gostaria de visualizar o quanto uma população de bactéria consegue crescer em poucos segundos.\n",
    "\n",
    "A população de bactérias começa em uma única e **dobra de tamanho a cada segundo**.\n",
    "\n",
    "Utilizando seus conhecimentos de programação, **crie um programa que peça o número de segundos e imprima uma pirâmide, onde cada camada tenha o número de bactérias**, após os segundo inseridos.\n",
    "\n",
    "- #### Exemplo:\n",
    "\n",
    "input: 4\n",
    "\n",
    "output:\n",
    "\n",
    "1\n",
    "\n",
    "11\n",
    "\n",
    "1111\n",
    "\n",
    "11111111"
   ]
  },
  {
   "cell_type": "code",
   "execution_count": 23,
   "metadata": {},
   "outputs": [
    {
     "name": "stdout",
     "output_type": "stream",
     "text": [
      "1\n",
      "11\n",
      "1111\n",
      "11111111\n",
      "1111111111111111\n"
     ]
    }
   ],
   "source": [
    "segundos = int(input('Digite o tempo em segundos'))\n",
    "\n",
    "i = 1\n",
    "while(i <= segundos):                \n",
    "    if (i == 1): \n",
    "        texto = '1'\n",
    "        print(texto)\n",
    "    else:\n",
    "        tamanho = len(texto)\n",
    "        \n",
    "        j = 1\n",
    "        while(j <= tamanho):\n",
    "            texto = texto + '1'   \n",
    "            j = j + 1 \n",
    "        print(texto)\n",
    "    i = i + 1"
   ]
  },
  {
   "cell_type": "markdown",
   "metadata": {},
   "source": [
    "## <span style=\"color:#ffdf22;\">Exercício 3: Mínimo Múltiplo Comum (Loop) </span>\n",
    "\n",
    "Seu primo pequeno vai na sua casa e vê você programando, ele, então, diz que programação não tem utilidade alguma. Você sabendo que ele está estudando sobre MMC na escola cria um **programa com Loop que permite ver qual é o MMC entre dois valores**.\n",
    "\n",
    "Para impressiona-lo você deve encontrar o MMC entre a velocidade da Luz e do Som, que são, respectivamente, 1.079.252.847 km/h e 1233 km/h."
   ]
  },
  {
   "cell_type": "code",
   "execution_count": 18,
   "metadata": {},
   "outputs": [
    {
     "name": "stdout",
     "output_type": "stream",
     "text": [
      "O valor do mmc para a velocidade da luz e do som é: 147857640039\n"
     ]
    }
   ],
   "source": [
    "velocidadeLuz = 1079252847  # km/h\n",
    "velocidadeSom = 1233       # km/h\n",
    "\n",
    "mdc = 0\n",
    "a, b = velocidadeLuz, velocidadeSom\n",
    "while (True):    \n",
    "    r = a % b    \n",
    "    if (r == 0):\n",
    "        mdc = b\n",
    "        break\n",
    "    else:\n",
    "        a = b\n",
    "        b = r\n",
    "mmc = abs(velocidadeLuz * velocidadeSom) // mdc\n",
    "\n",
    "print(f'O valor do mmc para a velocidade da luz e do som é: {mmc}')\n"
   ]
  },
  {
   "cell_type": "markdown",
   "metadata": {},
   "source": [
    "\n",
    "## <span style=\"color:#ffdf22;\">Desafio 1/2: Cercado (Loop) </span>\n",
    "\n",
    "Você tem uma vila no Clash of Clans e gostaria de saber quantas peças serão necessárias para criar um cercado ao redor dela, a proporção da cerca será de 1:3, ou seja, **para cada 1 de largura haverá 3 de comprimento**.\n",
    "\n",
    "Como você não sabe ainda a largura que quer e o valor que será despendido para a construção, você utilizará a programação para construir um **esboço do cercado**.\n",
    "\n",
    "Considere que a representação do cercado será com \"#\".\n",
    "\n",
    "- #### Exemplo:\n",
    "\n",
    "input: 5\n",
    "\n",
    "Output: \n",
    "\n",
    "###############\n",
    "\n",
    "#...................................#\n",
    "\n",
    "#...................................#\n",
    "\n",
    "#...................................#\n",
    "\n",
    "###############\n",
    "\n",
    "(desconsidere os pontos, eles apenas sinalizam o espaçamento)"
   ]
  },
  {
   "cell_type": "code",
   "execution_count": null,
   "metadata": {},
   "outputs": [],
   "source": []
  },
  {
   "cell_type": "markdown",
   "metadata": {},
   "source": [
    "## <span style=\"color:#ffdf22;\">Desafio 2/2: Recibo de compra (Condicional) </span>\n",
    "Crie um programa que peça produto, número de série e valor, respeitando as instruções abaixo. Caso não siga o padrão, deve-se printar uma mensagem de erro.\n",
    "1. **Produto:** Somente letras; Sem espaços vazios; Sem limite para tamanho.\n",
    "2. **Número de série:** Não podem haver simbolos ou letras; Sem espaços vazios; Devem ter exatamente 4 números inteiros.\n",
    "3. **Valor:** Podem ser números inteiros ou decimais; Todo Valor terá duas casas decimais após a virgula.\n",
    "\n",
    "- #### Exemplo de recibo:\n",
    "\n",
    "Produto: Shampoo\n",
    "\n",
    "Nº de série: 1234\n",
    "\n",
    "Valor: 26,34\n",
    "\n",
    "- #### Exemplo de mensagem de erro:\n",
    "\n",
    "Input: \"Camise6a\"\n",
    "\n",
    "Output: \"ERRO: produto incorreto, escreva o nome do produto somente com letras e sem espaços vazios.\""
   ]
  },
  {
   "cell_type": "code",
   "execution_count": null,
   "metadata": {},
   "outputs": [],
   "source": []
  }
 ],
 "metadata": {
  "kernelspec": {
   "display_name": "Python 3",
   "language": "python",
   "name": "python3"
  },
  "language_info": {
   "codemirror_mode": {
    "name": "ipython",
    "version": 3
   },
   "file_extension": ".py",
   "mimetype": "text/x-python",
   "name": "python",
   "nbconvert_exporter": "python",
   "pygments_lexer": "ipython3",
   "version": "3.11.3"
  }
 },
 "nbformat": 4,
 "nbformat_minor": 2
}
