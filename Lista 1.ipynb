{
 "cells": [
  {
   "cell_type": "markdown",
   "id": "2c1a9e76",
   "metadata": {},
   "source": [
    "|![dev1.jpg](imgs/dev1.jpg)|\n",
    "|--------------------------|\n"
   ]
  },
  {
   "cell_type": "markdown",
   "id": "b43b13ea",
   "metadata": {},
   "source": [
    "# 🚀 Vamos para a primeira lista de exercícios?\n",
    "\n",
    "Olá, devs! 🐍\n",
    "\n",
    "A primeira lista de exercícios do curso está no ar! É a sua chance de praticar **variáveis, operadores, tipos de dados e inputs** e fixar o conteúdo inicial. Nada complicado, mas essencial para o que vem pela frente! 💻\n",
    "\n",
    "\n",
    "## O que você vai fazer:\n",
    "- Manipular **variáveis**\n",
    "- Utilizar **operadores** em expressões\n",
    "- Trabalhar com **tipos de dados** em Python\n",
    "- Coletar dados com **inputs** do usuário\n",
    "\n",
    "**Dúvidas? Só mandar no <a href=\"https://forms.gle/Xp77MAWqRv7xjgA56\">formulário de dúvidas</a> que está rodando no canal do WhatsApp! Bora codar! 🚀**\n",
    "<br>\n",
    "\n",
    "**Enviar Lista por <a href=\"https://forms.gle/7wrj3ZLBAVBMpaZp6\">aqui</a>**\n",
    "\n",
    "Abraços,  \n",
    "**Equipe FEA.dev**\n",
    "\n",
    "<br>\n",
    "\n",
    "```python \n",
    "Palavras-chaves: input, f'', variaveis, str, string.upper(), float"
   ]
  },
  {
   "cell_type": "code",
   "execution_count": null,
   "id": "51dd8324",
   "metadata": {},
   "outputs": [],
   "source": []
  },
  {
   "cell_type": "markdown",
   "id": "fabe3da0",
   "metadata": {},
   "source": [
    "## Exercício 1: Planejamento de Viagem (Conversão de Moedas)"
   ]
  },
  {
   "cell_type": "markdown",
   "id": "a9c0e041",
   "metadata": {},
   "source": [
    "\n",
    "Você está planejando uma viagem internacional e precisa converter seu dinheiro para outra moeda.\n",
    "\n",
    "1. **Crie um programa que converta reais (R$) para dólares (USD)**. O programa deve pedir ao usuário a quantidade em reais e usar uma taxa de câmbio fornecida para calcular o valor correspondente em dólares.\n",
    "   - **Exemplo**: Se a taxa de câmbio for 1 USD = 5,30 BRL e você tiver R$ 1.000, qual será o valor em dólares?\n",
    "\n",
    "2. **Modifique o programa** para que o usuário converta reais para euros também (use 1 EUR = 5,80 BRL).\n"
   ]
  },
  {
   "cell_type": "code",
   "execution_count": 38,
   "id": "431e4f6f",
   "metadata": {},
   "outputs": [
    {
     "name": "stdout",
     "output_type": "stream",
     "text": [
      "Iniciando o programa para conversão de reais (R$) para dólares (USD)\n",
      "A taxa de câmbio para dólares (USD) é de 5.3 BRL\n",
      "O valor correspondente é: 98.30 dólares (USD) convertido através de R$ 521.0\n",
      "\n",
      "\n",
      "Iniciando o programa para conversão de reais (R$) para Euro (Eur)\n",
      "A taxa de câmbio de reais (R$) para EUR é 5.8\n",
      "O valor correspondente é: 89.83 euros convertidos através de 521.0 reais\n"
     ]
    }
   ],
   "source": [
    "#Questão 1\n",
    "taxaBrlToUsd = 5.30\n",
    "taxaBrlToEur = 5.8\n",
    "\n",
    "valor = float(input('Digite o valor em reais (R$) para ser convertido em dólares e euros: '))\n",
    "\n",
    "print('Iniciando o programa para conversão de reais (R$) para dólares (USD)')\n",
    "print(f'A taxa de câmbio para dólares (USD) é de {taxaBrlToUsd} BRL')\n",
    "print(f'O valor correspondente é: {valor / taxaBrlToUsd :.2f} dólares (USD) convertido através de R$ {valor}')\n",
    "\n",
    "print('\\n')\n",
    "\n",
    "#Questão 2\n",
    "print('Iniciando o programa para conversão de reais (R$) para Euro (Eur)')\n",
    "print(f'A taxa de câmbio de reais (R$) para EUR é {taxaBrlToEur}')\n",
    "print(f'O valor correspondente é: { valor / taxaBrlToEur :.2f} euros convertidos através de {valor} reais')"
   ]
  },
  {
   "cell_type": "markdown",
   "id": "0b91f96b",
   "metadata": {},
   "source": [
    "## Exercício 2: Cálculo do Consumo de Combustível"
   ]
  },
  {
   "cell_type": "markdown",
   "id": "3bc78eb2",
   "metadata": {},
   "source": [
    "\n",
    "Você está indo em uma viagem de carro e deseja saber quanto combustível gastará.\n",
    "\n",
    "1. **Escreva um programa que calcule o consumo de combustível baseado na distância a ser percorrida e no consumo médio do carro (km por litro)**. O programa deve perguntar ao usuário a distância em quilômetros e o consumo médio do carro.\n",
    "   - **Exemplo**: Se a distância é de 300 km e o carro faz 12 km/L, quantos litros de combustível serão necessários?\n",
    "\n",
    "2. **Adicione um cálculo de custo**, onde o programa pergunta também o preço do litro de combustível e exibe o custo total da viagem.\n"
   ]
  },
  {
   "cell_type": "code",
   "execution_count": 15,
   "id": "d0f7ef3d",
   "metadata": {},
   "outputs": [
    {
     "name": "stdout",
     "output_type": "stream",
     "text": [
      "Serão necessários 171.43 litros de combustível para percorrer a distância solicitada\n",
      "O custo total da viagem é R$ 1095.43\n"
     ]
    }
   ],
   "source": [
    "distanciaPercorrida = float(input('Digite a distância percorrida em Km: '))\n",
    "consumoMedio = float(input('Digite o consumo médio do veículo em km/L: '))\n",
    "\n",
    "qtdCombustivel = distanciaPercorrida / consumoMedio\n",
    "#questão 1\n",
    "print(f'Serão necessários {qtdCombustivel:.2f} litros de combustível para percorrer a distância solicitada')\n",
    "\n",
    "#questão 2\n",
    "precoCombustivel = float(input('Digite o preço do litro do combustível em R$: '))\n",
    "print(f'O custo total da viagem é R$ {qtdCombustivel * precoCombustivel:.2f}')"
   ]
  },
  {
   "cell_type": "markdown",
   "id": "9dc54907",
   "metadata": {},
   "source": [
    "## Exercício 3: Gerador de Senhas Personalizadas (Manipulação de Strings)"
   ]
  },
  {
   "cell_type": "markdown",
   "id": "4f51c322",
   "metadata": {},
   "source": [
    "\n",
    "Você está criando um sistema que gera senhas personalizadas para os usuários com base em suas informações pessoais. As senhas precisam ser únicas e seguras, mas também fáceis de lembrar.\n",
    "\n",
    "1. **Crie um programa que peça ao usuário seu nome e uma data**. O programa deve gerar uma senha usando a seguinte lógica:\n",
    "   - As 3 primeiras letras do nome.\n",
    "   - Os dois primeiros dígitos do ano.\n",
    "   - O número de caracteres do nome completo (incluindo espaços).\n",
    "\n",
    "   **Exemplo**: Para um usuário chamado \"Ana Beatriz Costa\" e \"15/08/1990\", a senha seria: `Ana19 18`.\n",
    "\n",
    "2. **Modifique o programa para transformar as letras da senha gerada em letras maiúsculas e adicionar um caractere especial \"!\" no final da senha**.\n",
    "\n",
    "   **Exemplo modificado**: A senha final seria: `ANA19 18!`.\n"
   ]
  },
  {
   "cell_type": "code",
   "execution_count": 23,
   "id": "d2868f56",
   "metadata": {},
   "outputs": [
    {
     "name": "stdout",
     "output_type": "stream",
     "text": [
      "A senha é: Ana19 17\n",
      "A senha modificada é: ANA19 17!\n"
     ]
    }
   ],
   "source": [
    "nome = input('Digite o seu nome: ')\n",
    "data = input('Digite uma data (dd/MM/yyyy): ')\n",
    "dataCollection = data.split('/')\n",
    "ano = dataCollection[2]\n",
    "\n",
    "senha = nome[0:3] + ano[0:2] + ' ' + str(len(nome))\n",
    "print('A senha é: ' + senha)\n",
    "\n",
    "#questao 2\n",
    "senha = senha.upper() + '!'\n",
    "print('A senha modificada é: ' + senha)\n"
   ]
  },
  {
   "cell_type": "markdown",
   "id": "c7346ac7",
   "metadata": {},
   "source": [
    "## Exercício 4: Cálculo de Juros Simples (Aplicação Financeira)"
   ]
  },
  {
   "cell_type": "markdown",
   "id": "a9c30d8b",
   "metadata": {},
   "source": [
    "\n",
    "Você está pensando em investir uma quantia em um banco e quer saber quanto receberá ao final de um período.\n",
    "\n",
    "1. **Escreva um programa que calcule o valor final de uma aplicação de juros simples**, com base no capital inicial, taxa de juros e tempo de investimento. A fórmula é \\( M = C \times (1 + i \times t) \\), onde:\n",
    "   - \\( M \\) é o montante final,\n",
    "   - \\( C \\) é o capital inicial,\n",
    "   - \\( i \\) é a taxa de juros anual,\n",
    "   - \\( t \\) é o tempo (em anos).\n",
    "   - **Exemplo**: Um investimento de R$ 1.000 a uma taxa de 5% ao ano por 3 anos.\n",
    "\n",
    "2. **Permita que o usuário escolha o período de tempo (em meses ou anos)** e faça a conversão correta no cálculo.\n"
   ]
  },
  {
   "cell_type": "code",
   "execution_count": 32,
   "id": "c1f7f205",
   "metadata": {},
   "outputs": [
    {
     "name": "stdout",
     "output_type": "stream",
     "text": [
      "O valor do montante final será: R$ 1012.27\n"
     ]
    }
   ],
   "source": [
    "capitalInicial = float(input('Digite o capital inicial em R$: '))\n",
    "tipoJuros = input('Digite {mensal} para tempo de investimento mensal e {anual} para tempo de investimento anual: ')\n",
    "taxaJurosAnual = float(input('Digite a taxa de juros anual: '))\n",
    "tempo = float(input('Digite o tempo: '))\n",
    "\n",
    "if (tipoJuros == 'mensal'):\n",
    "    taxaJurosAnual = ((1 + taxaJurosAnual)**((1/12)-1))\n",
    "\n",
    "montanteFinal = capitalInicial * (1 + taxaJurosAnual)**(tempo)\n",
    "\n",
    "print(f\"O valor do montante final será: R$ {montanteFinal:.2f}\")"
   ]
  },
  {
   "cell_type": "markdown",
   "id": "81221080",
   "metadata": {},
   "source": [
    "# Desafio: Verificação de ID Válido"
   ]
  },
  {
   "cell_type": "markdown",
   "id": "114e03d5",
   "metadata": {},
   "source": [
    "\n",
    "Você está trabalhando com um sistema de verificação de identidade, e precisa validar se um número de identificação segue uma regra específica.\n",
    "\n",
    "1. **Crie um programa que valide se um número de CPF é válido**, baseado no formato \"XXX.XXX.XXX-XX\". O programa deve verificar se a entrada tem o número correto de dígitos e o formato correto (não é necessário validar os dígitos verificadores).\n",
    "   - **Exemplo**: O programa deve aceitar \"123.456.789-00\" e rejeitar \"12345678900\".\n",
    "\n",
    "2. **Adicione uma funcionalidade** onde o programa também valida um CNPJ no formato \"XX.XXX.XXX/0001-XX\".\n"
   ]
  },
  {
   "cell_type": "code",
   "execution_count": 17,
   "id": "18c5c878",
   "metadata": {},
   "outputs": [
    {
     "name": "stdout",
     "output_type": "stream",
     "text": [
      "O CNPJ é: Inválido\n"
     ]
    }
   ],
   "source": [
    "opcao = int(input('Digite 1 para validar CPF e 2 para validar CNPJ: '))\n",
    "documento = input('Digite o número do seu documento: ')\n",
    "\n",
    "documentoValido = True\n",
    "\n",
    "if (opcao == 1):\n",
    "    if (len(documento) != 14):\n",
    "        documentoValido = False\n",
    "    if (documento[3] != '.' or documento[7] != '.' or documento[11] != '-'):\n",
    "        documentoValido = False\n",
    "    print('O CPF é: ' + ('Válido' if documentoValido else 'Inválido'))\n",
    "else:\n",
    "    if (len(documento) != 18):\n",
    "        documentoValido = False\n",
    "    if (documento[2] != '.' or documento[6] != '.' or documento[10] != '/' or documento[15] != '-' or documento[11:15] != '0001'):\n",
    "        documentoValido = False\n",
    "    print('O CNPJ é: ' + ('Válido' if documentoValido else 'Inválido'))"
   ]
  }
 ],
 "metadata": {
  "kernelspec": {
   "display_name": "Python 3",
   "language": "python",
   "name": "python3"
  },
  "language_info": {
   "codemirror_mode": {
    "name": "ipython",
    "version": 3
   },
   "file_extension": ".py",
   "mimetype": "text/x-python",
   "name": "python",
   "nbconvert_exporter": "python",
   "pygments_lexer": "ipython3",
   "version": "3.13.0"
  }
 },
 "nbformat": 4,
 "nbformat_minor": 5
}
