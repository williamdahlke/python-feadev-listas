{
 "cells": [
  {
   "cell_type": "markdown",
   "id": "2c1a9e76",
   "metadata": {},
   "source": [
    "|![dev1.jpg](imgs/dev1.jpg)|\n",
    "|--------------------------|\n"
   ]
  },
  {
   "cell_type": "markdown",
   "id": "b43b13ea",
   "metadata": {},
   "source": [
    "# 🚀 Vamos para a primeira lista de exercícios?\n",
    "\n",
    "Olá, devs! 🐍\n",
    "\n",
    "A primeira lista de exercícios do curso está no ar! É a sua chance de praticar **variáveis, operadores, tipos de dados e inputs** e fixar o conteúdo inicial. Nada complicado, mas essencial para o que vem pela frente! 💻\n",
    "\n",
    "\n",
    "## O que você vai fazer:\n",
    "- Manipular **variáveis**\n",
    "- Utilizar **operadores** em expressões\n",
    "- Trabalhar com **tipos de dados** em Python\n",
    "- Coletar dados com **inputs** do usuário\n",
    "\n",
    "**Dúvidas? Só mandar no <a href=\"https://forms.gle/Xp77MAWqRv7xjgA56\">formulário de dúvidas</a> que está rodando no canal do WhatsApp! Bora codar! 🚀**\n",
    "<br>\n",
    "\n",
    "**Enviar Lista por <a href=\"https://forms.gle/7wrj3ZLBAVBMpaZp6\">aqui</a>**\n",
    "\n",
    "Abraços,  \n",
    "**Equipe FEA.dev**\n",
    "\n",
    "<br>\n",
    "\n",
    "```python \n",
    "Palavras-chaves: input, f'', variaveis, str, string.upper(), float"
   ]
  },
  {
   "cell_type": "code",
   "execution_count": null,
   "id": "51dd8324",
   "metadata": {},
   "outputs": [],
   "source": []
  },
  {
   "cell_type": "markdown",
   "id": "fabe3da0",
   "metadata": {},
   "source": [
    "## Exercício 1: Planejamento de Viagem (Conversão de Moedas)"
   ]
  },
  {
   "cell_type": "markdown",
   "id": "a9c0e041",
   "metadata": {},
   "source": [
    "\n",
    "Você está planejando uma viagem internacional e precisa converter seu dinheiro para outra moeda.\n",
    "\n",
    "1. **Crie um programa que converta reais (R$) para dólares (USD)**. O programa deve pedir ao usuário a quantidade em reais e usar uma taxa de câmbio fornecida para calcular o valor correspondente em dólares.\n",
    "   - **Exemplo**: Se a taxa de câmbio for 1 USD = 5,30 BRL e você tiver R$ 1.000, qual será o valor em dólares?\n",
    "\n",
    "2. **Modifique o programa** para que o usuário converta reais para euros também (use 1 EUR = 5,80 BRL).\n"
   ]
  },
  {
   "cell_type": "code",
   "execution_count": null,
   "id": "431e4f6f",
   "metadata": {},
   "outputs": [],
   "source": []
  },
  {
   "cell_type": "markdown",
   "id": "0b91f96b",
   "metadata": {},
   "source": [
    "## Exercício 2: Cálculo do Consumo de Combustível"
   ]
  },
  {
   "cell_type": "markdown",
   "id": "3bc78eb2",
   "metadata": {},
   "source": [
    "\n",
    "Você está indo em uma viagem de carro e deseja saber quanto combustível gastará.\n",
    "\n",
    "1. **Escreva um programa que calcule o consumo de combustível baseado na distância a ser percorrida e no consumo médio do carro (km por litro)**. O programa deve perguntar ao usuário a distância em quilômetros e o consumo médio do carro.\n",
    "   - **Exemplo**: Se a distância é de 300 km e o carro faz 12 km/L, quantos litros de combustível serão necessários?\n",
    "\n",
    "2. **Adicione um cálculo de custo**, onde o programa pergunta também o preço do litro de combustível e exibe o custo total da viagem.\n"
   ]
  },
  {
   "cell_type": "code",
   "execution_count": null,
   "id": "d0f7ef3d",
   "metadata": {},
   "outputs": [],
   "source": []
  },
  {
   "cell_type": "markdown",
   "id": "9dc54907",
   "metadata": {},
   "source": [
    "## Exercício 3: Gerador de Senhas Personalizadas (Manipulação de Strings)"
   ]
  },
  {
   "cell_type": "markdown",
   "id": "4f51c322",
   "metadata": {},
   "source": [
    "\n",
    "Você está criando um sistema que gera senhas personalizadas para os usuários com base em suas informações pessoais. As senhas precisam ser únicas e seguras, mas também fáceis de lembrar.\n",
    "\n",
    "1. **Crie um programa que peça ao usuário seu nome e uma data**. O programa deve gerar uma senha usando a seguinte lógica:\n",
    "   - As 3 primeiras letras do nome.\n",
    "   - Os dois primeiros dígitos do ano.\n",
    "   - O número de caracteres do nome completo (incluindo espaços).\n",
    "\n",
    "   **Exemplo**: Para um usuário chamado \"Ana Beatriz Costa\" e \"15/08/1990\", a senha seria: `Ana19 18`.\n",
    "\n",
    "2. **Modifique o programa para transformar as letras da senha gerada em letras maiúsculas e adicionar um caractere especial \"!\" no final da senha**.\n",
    "\n",
    "   **Exemplo modificado**: A senha final seria: `ANA19 18!`.\n"
   ]
  },
  {
   "cell_type": "code",
   "execution_count": null,
   "id": "d2868f56",
   "metadata": {},
   "outputs": [],
   "source": []
  },
  {
   "cell_type": "markdown",
   "id": "c7346ac7",
   "metadata": {},
   "source": [
    "## Exercício 4: Cálculo de Juros Simples (Aplicação Financeira)"
   ]
  },
  {
   "cell_type": "markdown",
   "id": "a9c30d8b",
   "metadata": {},
   "source": [
    "\n",
    "Você está pensando em investir uma quantia em um banco e quer saber quanto receberá ao final de um período.\n",
    "\n",
    "1. **Escreva um programa que calcule o valor final de uma aplicação de juros simples**, com base no capital inicial, taxa de juros e tempo de investimento. A fórmula é \\( M = C \times (1 + i \times t) \\), onde:\n",
    "   - \\( M \\) é o montante final,\n",
    "   - \\( C \\) é o capital inicial,\n",
    "   - \\( i \\) é a taxa de juros anual,\n",
    "   - \\( t \\) é o tempo (em anos).\n",
    "   - **Exemplo**: Um investimento de R$ 1.000 a uma taxa de 5% ao ano por 3 anos.\n",
    "\n",
    "2. **Permita que o usuário escolha o período de tempo (em meses ou anos)** e faça a conversão correta no cálculo.\n"
   ]
  },
  {
   "cell_type": "code",
   "execution_count": null,
   "id": "c1f7f205",
   "metadata": {},
   "outputs": [],
   "source": []
  },
  {
   "cell_type": "markdown",
   "id": "81221080",
   "metadata": {},
   "source": [
    "# Desafio: Verificação de ID Válido"
   ]
  },
  {
   "cell_type": "markdown",
   "id": "114e03d5",
   "metadata": {},
   "source": [
    "\n",
    "Você está trabalhando com um sistema de verificação de identidade, e precisa validar se um número de identificação segue uma regra específica.\n",
    "\n",
    "1. **Crie um programa que valide se um número de CPF é válido**, baseado no formato \"XXX.XXX.XXX-XX\". O programa deve verificar se a entrada tem o número correto de dígitos e o formato correto (não é necessário validar os dígitos verificadores).\n",
    "   - **Exemplo**: O programa deve aceitar \"123.456.789-00\" e rejeitar \"12345678900\".\n",
    "\n",
    "2. **Adicione uma funcionalidade** onde o programa também valida um CNPJ no formato \"XX.XXX.XXX/0001-XX\".\n"
   ]
  },
  {
   "cell_type": "code",
   "execution_count": null,
   "id": "18c5c878",
   "metadata": {},
   "outputs": [],
   "source": []
  }
 ],
 "metadata": {
  "kernelspec": {
   "display_name": "Python 3",
   "language": "python",
   "name": "python3"
  },
  "language_info": {
   "codemirror_mode": {
    "name": "ipython",
    "version": 3
   },
   "file_extension": ".py",
   "mimetype": "text/x-python",
   "name": "python",
   "nbconvert_exporter": "python",
   "pygments_lexer": "ipython3",
   "version": "3.12.7"
  }
 },
 "nbformat": 4,
 "nbformat_minor": 5
}
